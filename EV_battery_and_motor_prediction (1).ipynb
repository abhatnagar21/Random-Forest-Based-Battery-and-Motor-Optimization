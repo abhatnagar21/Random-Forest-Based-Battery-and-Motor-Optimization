{
  "nbformat": 4,
  "nbformat_minor": 0,
  "metadata": {
    "colab": {
      "provenance": []
    },
    "kernelspec": {
      "name": "python3",
      "display_name": "Python 3"
    },
    "language_info": {
      "name": "python"
    }
  },
  "cells": [
    {
      "cell_type": "code",
      "source": [
        "import pandas as pd\n",
        "speed_data_path = \"speedtime.xlsx\"\n",
        "speed_df = pd.read_excel(speed_data_path, sheet_name=0)\n",
        "speed_df.dropna(axis=1, how='all', inplace=True)\n",
        "speed_df = speed_df.select_dtypes(include=[\"number\"])\n",
        "summary_data = {}\n",
        "for col in speed_df.columns:\n",
        "    valid_data = speed_df[col].dropna()\n",
        "\n",
        "    if not valid_data.empty:\n",
        "        avg_speed = valid_data.mean()\n",
        "        percentiles = valid_data.quantile([0.25, 0.50, 0.75, 0.90, 0.95, 0.99]).to_dict()\n",
        "\n",
        "        summary_data[col] = {\n",
        "            \"Average Speed\": avg_speed,\n",
        "            \"25th Percentile\": percentiles.get(0.25, None),\n",
        "            \"50th Percentile (Median)\": percentiles.get(0.50, None),\n",
        "            \"75th Percentile\": percentiles.get(0.75, None),\n",
        "            \"90th Percentile\": percentiles.get(0.90, None),\n",
        "            \"95th Percentile\": percentiles.get(0.95, None),\n",
        "            \"99th Percentile\": percentiles.get(0.99, None)\n",
        "        }\n",
        "\n",
        "\n",
        "summary_df = pd.DataFrame.from_dict(summary_data, orient=\"index\")\n",
        "print(summary_df)\n",
        "summary_df.to_excel(\"speed_summary.xlsx\", index=True)\n"
      ],
      "metadata": {
        "colab": {
          "base_uri": "https://localhost:8080/"
        },
        "id": "p9gXDxQav-VD",
        "outputId": "62d05645-762f-4231-bc08-3a6eeba762e8"
      },
      "execution_count": null,
      "outputs": [
        {
          "output_type": "stream",
          "name": "stdout",
          "text": [
            "         Average Speed  25th Percentile  50th Percentile (Median)  \\\n",
            "TIME        249.500000       125.250000                249.500000   \n",
            "1             1.303000         0.701312                  1.579233   \n",
            "2             0.836021         0.241509                  0.709373   \n",
            "3             1.439759         1.242087                  1.740878   \n",
            "4             1.353851         1.058546                  1.551093   \n",
            "5             1.193627         0.542484                  1.403262   \n",
            "6             1.020853         0.150278                  1.139283   \n",
            "7             1.624493         1.383413                  1.755556   \n",
            "8             1.277860         1.026088                  1.510382   \n",
            "9             1.153400         0.916538                  1.289334   \n",
            "10            1.267007         0.890859                  1.423040   \n",
            "11            1.624493         1.383413                  1.755556   \n",
            "12            0.836021         0.241509                  0.709373   \n",
            "13            1.040784         0.668018                  1.083687   \n",
            "14            0.825106         0.007586                  0.778796   \n",
            "15            1.400202         0.943541                  1.851073   \n",
            "16            1.040784         0.668018                  1.083687   \n",
            "AVERAGE       0.992169         0.693703                  1.179521   \n",
            "\n",
            "         75th Percentile  90th Percentile  95th Percentile  99th Percentile  \n",
            "TIME          373.750000       448.300000       473.150000       493.030000  \n",
            "1               1.921237         1.968032         1.997059         2.065898  \n",
            "2               1.441114         1.802212         1.954443         2.029155  \n",
            "3               1.875598         1.936961         1.960288         2.039984  \n",
            "4               1.815808         1.900932         1.947879         2.032654  \n",
            "5               1.816424         1.939550         1.984985         2.038755  \n",
            "6               1.786259         1.931202         1.960605         1.990344  \n",
            "7               2.039176         2.475556         2.598721         2.656628  \n",
            "8               1.691041         1.785061         1.834871         1.919493  \n",
            "9               1.527921         1.615321         1.694491         1.741967  \n",
            "10              1.756496         1.894563         1.953180         2.000695  \n",
            "11              2.039176         2.475556         2.598721         2.656628  \n",
            "12              1.441114         1.802212         1.954443         2.029155  \n",
            "13              1.492810         1.731302         1.837994         1.905283  \n",
            "14              1.566832         1.938245         1.965462         1.985062  \n",
            "15              1.956161         1.981625         1.996747         2.083988  \n",
            "16              1.492810         1.731302         1.837994         1.905283  \n",
            "AVERAGE         1.354914         1.497914         1.550680         1.608941  \n"
          ]
        }
      ]
    },
    {
      "cell_type": "code",
      "source": [
        "import pandas as pd\n",
        "import numpy as np\n",
        "from sklearn.cluster import KMeans\n",
        "def calculate_power_energy_battery(speed_file,battery_voltage,avg_trip_time_sec,avg_trip_time_min):\n",
        "    speed_df = pd.read_csv(speed_file)\n",
        "    C_d = 0.24#drag coeff\n",
        "    rho = 1.2#air density(kg/m³)\n",
        "    A = 0.0682#frontal area (m²)\n",
        "    C_r = 0.01#rolling resistance coeff\n",
        "    M = 93#mass of rider+cycle(kg)\n",
        "    g = 9.8#gravitational acceleration(m/s²)\n",
        "    factor_inertia = 1.05#factor for inertia effects\n",
        "    theta = np.radians(1)#assume a small gradient (~1 degree)\n",
        "\n",
        "    #extract speed columns\n",
        "    speed_columns=speed_df.columns[1:-1]\n",
        "    X=speed_df[speed_columns].dropna().values\n",
        "    #apply KMeans clustering to determine cluster-based speeds\n",
        "    kmeans=KMeans(n_clusters=3,random_state=42,n_init=10)\n",
        "    kmeans.fit(X)\n",
        "    cluster_centers=kmeans.cluster_centers_\n",
        "    speed_df[\"Cluster Avg Speed\"]=[cluster_centers[label].mean() for label in kmeans.labels_]\n",
        "\n",
        "    #compute power using the cluster avg Speed\n",
        "    speed_df[\"Cluster Power (W)\"]=((0.5*C_d*rho*A*(speed_df[\"Cluster Avg Speed\"]**2)) +\n",
        "                                     (C_r*M*g) +\n",
        "                                     (M*g*np.sin(theta)) +\n",
        "                                     (factor_inertia*M*speed_df[\"Cluster Avg Speed\"]))*speed_df[\"Cluster Avg Speed\"]\n",
        "\n",
        "    #cmpute average power across speed data\n",
        "    speed_df[\"Avg Power (W)\"]=((0.5*C_d*rho*A*(speed_df.iloc[:,1]**2))+\n",
        "                                  (C_r*M*g)+\n",
        "                                  (M*g*np.sin(theta))+\n",
        "                                  (factor_inertia*M*speed_df.iloc[:,1]))*speed_df.iloc[:,1]\n",
        "\n",
        "    #calculate total average power using the cluster-based speeds\n",
        "    total_avg_cluster_power=speed_df[\"Cluster Power (W)\"].mean()\n",
        "    total_avg_power=speed_df[\"Avg Power (W)\"].mean()\n",
        "\n",
        "    #convert trip time to hours\n",
        "    avg_trip_time_hours_sec=avg_trip_time_sec/3600#convert seconds to hours\n",
        "    avg_trip_time_hours_min=avg_trip_time_min/60#convert minutes to hours\n",
        "\n",
        "    #calculate energy required(Wh)\n",
        "    energy_required_sec_wh=total_avg_cluster_power*avg_trip_time_hours_sec\n",
        "    energy_required_min_wh=total_avg_cluster_power*avg_trip_time_hours_min\n",
        "\n",
        "    #calculate battery capacity(Ah)\n",
        "    battery_capacity_ah_sec = energy_required_sec_wh / battery_voltage\n",
        "    battery_capacity_ah_min = energy_required_min_wh / battery_voltage\n",
        "\n",
        "    return {\n",
        "        \"Total Avg Cluster Power(W)\":total_avg_cluster_power,\n",
        "        \"Total Avg Power(W)\":total_avg_power,\n",
        "        \"Energy Required(Wh)for 250 sec\":energy_required_sec_wh,\n",
        "        \"Energy Required(Wh)for 10 min\":energy_required_min_wh,\n",
        "        \"Battery Capacity(Ah)for 250 sec\":battery_capacity_ah_sec,\n",
        "        \"Battery Capacity(Ah)for 10 min\":battery_capacity_ah_min,\n",
        "        \"Updated DataFrame\":speed_df\n",
        "    }\n",
        "speed_analysis_path = \"Speed_Analysis.csv\"\n",
        "battery_voltage = 36\n",
        "avg_trip_time_sec = 250\n",
        "avg_trip_time_min = 10\n",
        "results=calculate_power_energy_battery(speed_analysis_path,battery_voltage,avg_trip_time_sec,avg_trip_time_min)\n",
        "results[\"Updated DataFrame\"].to_csv(\"Final_Power_Energy_Analysis.csv\",index=False)\n",
        "\n",
        "\n",
        "for key, value in results.items():\n",
        "    if key != \"Updated DataFrame\":\n",
        "        print(f\"{key}: {value}\")\n",
        "print(\"Results saved as 'Final_Power_Energy_Analysis.csv'\")"
      ],
      "metadata": {
        "colab": {
          "base_uri": "https://localhost:8080/"
        },
        "id": "auFFHw34tLRW",
        "outputId": "f708431a-f2f6-4e9c-e890-87990e94a57b"
      },
      "execution_count": null,
      "outputs": [
        {
          "output_type": "stream",
          "name": "stdout",
          "text": [
            "Total Avg Cluster Power (W): 255.28836926994148\n",
            "Total Avg Power (W): 174.01007119537377\n",
            "Energy Required (Wh) for 250 sec: 17.72835897707927\n",
            "Energy Required (Wh) for 10 min: 42.54806154499025\n",
            "Battery Capacity (Ah) for 250 sec: 0.49245441602997975\n",
            "Battery Capacity (Ah) for 10 min: 1.1818905984719512\n",
            "Results saved as 'Final_Power_Energy_Analysis.csv'\n"
          ]
        }
      ]
    }
  ]
}